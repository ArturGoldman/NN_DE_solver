{
 "cells": [
  {
   "cell_type": "markdown",
   "metadata": {
    "ExecuteTime": {
     "end_time": "2018-12-18T11:12:37.978677Z",
     "start_time": "2018-12-18T11:12:37.976016Z"
    }
   },
   "source": [
    "# Imports"
   ]
  },
  {
   "cell_type": "code",
   "execution_count": 3,
   "metadata": {},
   "outputs": [],
   "source": [
    "%load_ext autoreload\n",
    "%autoreload 2"
   ]
  },
  {
   "cell_type": "code",
   "execution_count": 4,
   "metadata": {
    "ExecuteTime": {
     "end_time": "2019-01-02T11:52:45.419072Z",
     "start_time": "2019-01-02T11:52:45.386467Z"
    },
    "autoscroll": false,
    "ein.hycell": false,
    "ein.tags": "worksheet-0",
    "slideshow": {
     "slide_type": "-"
    }
   },
   "outputs": [
    {
     "data": {
      "text/html": [
       "<style>.container { width:95% !important; }</style>"
      ],
      "text/plain": [
       "<IPython.core.display.HTML object>"
      ]
     },
     "metadata": {},
     "output_type": "display_data"
    }
   ],
   "source": [
    "def fix_layout(width:int=95):\n",
    "    from IPython.core.display import display, HTML\n",
    "    display(HTML('<style>.container { width:' + str(width) + '% !important; }</style>'))\n",
    "    \n",
    "fix_layout()"
   ]
  },
  {
   "cell_type": "code",
   "execution_count": 5,
   "metadata": {},
   "outputs": [],
   "source": [
    "from nnpde.solve_area import Solve_Area\n",
    "from tqdm.notebook import tqdm\n",
    "import torch\n",
    "import numpy as np\n",
    "import matplotlib.pyplot as plt"
   ]
  },
  {
   "cell_type": "code",
   "execution_count": 6,
   "metadata": {
    "ExecuteTime": {
     "end_time": "2018-12-30T11:10:53.160742Z",
     "start_time": "2018-12-30T11:10:51.404495Z"
    },
    "autoscroll": false,
    "ein.hycell": false,
    "ein.tags": "worksheet-0",
    "slideshow": {
     "slide_type": "-"
    }
   },
   "outputs": [],
   "source": [
    "from nnpde.utils.logs import enable_logging, logging "
   ]
  },
  {
   "cell_type": "markdown",
   "metadata": {},
   "source": [
    "# Setup"
   ]
  },
  {
   "cell_type": "code",
   "execution_count": 7,
   "metadata": {
    "ExecuteTime": {
     "end_time": "2018-12-30T11:10:53.476092Z",
     "start_time": "2018-12-30T11:10:53.462359Z"
    },
    "autoscroll": false,
    "ein.hycell": false,
    "ein.tags": "worksheet-0",
    "slideshow": {
     "slide_type": "-"
    }
   },
   "outputs": [
    {
     "name": "stderr",
     "output_type": "stream",
     "text": [
      "2021-07-08 13:03:40,530 - root - INFO - logs - logging enabled for level: 20\n"
     ]
    }
   ],
   "source": [
    "enable_logging(20)\n",
    "\n",
    "#seed = 9 # Does not give problems\n",
    "#torch.manual_seed(seed)\n",
    "#np.random.seed(seed)"
   ]
  },
  {
   "cell_type": "code",
   "execution_count": 8,
   "metadata": {},
   "outputs": [],
   "source": [
    "# log_prob has to be defined. also, backward of it will be calculated\n",
    "my_dist = torch.distributions.multivariate_normal.MultivariateNormal(loc = torch.tensor([0., 0., 0.]), \n",
    "                                                                     covariance_matrix = torch.eye(3, dtype = torch.float32))"
   ]
  },
  {
   "cell_type": "code",
   "execution_count": 9,
   "metadata": {},
   "outputs": [
    {
     "data": {
      "text/plain": [
       "'\\nexamp = my_dist.sample(torch.Size([1000]))\\nplt.scatter(examp[:, 0], examp[:, 1])\\nplt.grid()\\nplt.show()\\n'"
      ]
     },
     "execution_count": 9,
     "metadata": {},
     "output_type": "execute_result"
    }
   ],
   "source": [
    "\"\"\"\n",
    "examp = my_dist.sample(torch.Size([1000]))\n",
    "plt.scatter(examp[:, 0], examp[:, 1])\n",
    "plt.grid()\n",
    "plt.show()\n",
    "\"\"\""
   ]
  },
  {
   "cell_type": "code",
   "execution_count": 10,
   "metadata": {},
   "outputs": [],
   "source": [
    "n_dims = 3 #specify dimensionality of data\n",
    "cube_coords = torch.tensor([[-4., 4.], [-4., 4.], [-4., 4.]]) # specify coordinate borders of cube\n",
    "N = torch.tensor([32, 32, 32]) # specify grid size of every dimension. \n",
    "# h (float) can be specified instead of N\n",
    "# Note: distance between adjacent nodes h has to be the same across all dimensions"
   ]
  },
  {
   "cell_type": "code",
   "execution_count": 11,
   "metadata": {},
   "outputs": [],
   "source": [
    "region_solver = Solve_Area(n_dims = n_dims, \n",
    "                           cube_coords = cube_coords, \n",
    "                           distribution = my_dist, \n",
    "                           N = N)"
   ]
  },
  {
   "cell_type": "code",
   "execution_count": 12,
   "metadata": {},
   "outputs": [
    {
     "data": {
      "application/vnd.jupyter.widget-view+json": {
       "model_id": "c372f49d9c5549c6b9c806090974b2aa",
       "version_major": 2,
       "version_minor": 0
      },
      "text/plain": [
       "HBox(children=(HTML(value=''), FloatProgress(value=0.0, max=20.0), HTML(value='')))"
      ]
     },
     "metadata": {},
     "output_type": "display_data"
    },
    {
     "name": "stderr",
     "output_type": "stream",
     "text": [
      "2021-07-08 13:04:41,376 - root - INFO - model - Using optimizer Adadelta\n"
     ]
    },
    {
     "name": "stdout",
     "output_type": "stream",
     "text": [
      "\n"
     ]
    },
    {
     "name": "stderr",
     "output_type": "stream",
     "text": [
      "2021-07-08 13:04:42,142 - root - INFO - model - Training with max_epochs: 300, tol: 1e-06. Initial loss is 5361.84228515625\n",
      "2021-07-08 13:04:45,596 - root - INFO - model - Epoch 0 with total loss 4576.7841796875\n",
      "2021-07-08 13:10:22,304 - root - INFO - model - Epoch 100 with total loss 516.0802001953125\n",
      "2021-07-08 13:15:59,577 - root - INFO - model - Epoch 200 with total loss 474.3822937011719\n",
      "2021-07-08 13:21:31,765 - root - INFO - model - 299 epochs with total loss 458.0713195800781\n"
     ]
    }
   ],
   "source": [
    "base_parameters = {\n",
    "    \"nb_layers\": 3,\n",
    "    \"max_epochs\": 300,\n",
    "    \"batch_size\": 10,\n",
    "    \"stable_count\": 10,\n",
    "    \"n_dims\": n_dims,\n",
    "    \"optimizer\": \"Adadelta\",\n",
    "}\n",
    "\n",
    "region_solver.train_model(base_parameters)"
   ]
  },
  {
   "cell_type": "markdown",
   "metadata": {},
   "source": [
    "## Test on distribution"
   ]
  },
  {
   "cell_type": "code",
   "execution_count": 22,
   "metadata": {},
   "outputs": [],
   "source": [
    "def value_function(x):\n",
    "    #x = [n_items, n_dims]\n",
    "    #return (x**3).sum(dim=1)\n",
    "    #return (torch.sin(x**3)).sum(dim=1)\n",
    "    return torch.exp(1+x.sum(dim=1))"
   ]
  },
  {
   "cell_type": "code",
   "execution_count": 23,
   "metadata": {},
   "outputs": [],
   "source": [
    "samps = my_dist.sample([10000])"
   ]
  },
  {
   "cell_type": "code",
   "execution_count": null,
   "metadata": {},
   "outputs": [],
   "source": [
    "region_solver.solve_setting(function = value_function, samples = samps)"
   ]
  },
  {
   "cell_type": "code",
   "execution_count": null,
   "metadata": {},
   "outputs": [],
   "source": [
    "def regular_expectancy(f, p, test_amnt, sample_amnt):\n",
    "    results = list()\n",
    "    for i in tqdm(range(test_amnt)):\n",
    "        samples = p.sample([sample_amnt])\n",
    "        mean = f(samples).mean()\n",
    "        results.append(mean.item())\n",
    "    return results"
   ]
  },
  {
   "cell_type": "code",
   "execution_count": null,
   "metadata": {},
   "outputs": [],
   "source": [
    "t_am = 100\n",
    "s_am = 10**3\n",
    "reg_exp = regular_expectancy(value_function, my_dist, t_am, s_am)"
   ]
  },
  {
   "cell_type": "code",
   "execution_count": null,
   "metadata": {},
   "outputs": [],
   "source": [
    "def spec_exp(f, test_amnt, sample_amnt, region_solver, p):\n",
    "    results = list()\n",
    "    for i in tqdm(range(test_amnt)):\n",
    "        samples = p.sample([sample_amnt])\n",
    "        cv = region_solver.get_cv(samples)\n",
    "        mean = (f(samples) - cv).mean()\n",
    "        results.append(mean.item())\n",
    "    return results"
   ]
  },
  {
   "cell_type": "code",
   "execution_count": null,
   "metadata": {},
   "outputs": [],
   "source": [
    "cv_exp = spec_exp(value_function, t_am, s_am, region_solver, my_dist)"
   ]
  },
  {
   "cell_type": "code",
   "execution_count": null,
   "metadata": {},
   "outputs": [],
   "source": [
    "def box_comp(a, b):                                                    \n",
    "    data = [a, b]                                             \n",
    "    plt.figure(figsize=(12,8))                 \n",
    "    plt.boxplot(data, showfliers = False, labels =                              \n",
    "                [\"MC Vanila\", \"Diff CV\"])\n",
    "    plt.grid()\n",
    "    plt.show()"
   ]
  },
  {
   "cell_type": "code",
   "execution_count": null,
   "metadata": {},
   "outputs": [],
   "source": [
    "box_comp(reg_exp, cv_exp)"
   ]
  },
  {
   "cell_type": "code",
   "execution_count": null,
   "metadata": {},
   "outputs": [],
   "source": []
  }
 ],
 "metadata": {
  "hide_input": false,
  "kernelspec": {
   "display_name": "Python 3",
   "language": "python",
   "name": "python3"
  },
  "language_info": {
   "codemirror_mode": {
    "name": "ipython",
    "version": 3
   },
   "file_extension": ".py",
   "mimetype": "text/x-python",
   "name": "python",
   "nbconvert_exporter": "python",
   "pygments_lexer": "ipython3",
   "version": "3.7.6"
  },
  "name": "main.ipynb",
  "toc": {
   "base_numbering": 1,
   "nav_menu": {
    "height": "67.7px",
    "width": "252px"
   },
   "number_sections": true,
   "sideBar": false,
   "skip_h1_title": false,
   "title_cell": "Table of Contents",
   "title_sidebar": "Contents",
   "toc_cell": true,
   "toc_position": {
    "height": "584.933px",
    "left": "1px",
    "right": "2569px",
    "top": "111px",
    "width": "600px"
   },
   "toc_section_display": false,
   "toc_window_display": false
  }
 },
 "nbformat": 4,
 "nbformat_minor": 2
}
